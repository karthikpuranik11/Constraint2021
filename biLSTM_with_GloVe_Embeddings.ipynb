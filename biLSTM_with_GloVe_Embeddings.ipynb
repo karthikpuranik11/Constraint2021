{
  "nbformat": 4,
  "nbformat_minor": 0,
  "metadata": {
    "accelerator": "GPU",
    "colab": {
      "name": "biLSTM with GloVe Embeddings.ipynb",
      "provenance": [],
      "authorship_tag": "ABX9TyO7NdzhG1P1CXl+T8ffxtbz",
      "include_colab_link": true
    },
    "kernelspec": {
      "display_name": "Python 3",
      "name": "python3"
    }
  },
  "cells": [
    {
      "cell_type": "markdown",
      "metadata": {
        "id": "view-in-github",
        "colab_type": "text"
      },
      "source": [
        "<a href=\"https://colab.research.google.com/github/karthikpuranik11/Constraint2021/blob/main/biLSTM_with_GloVe_Embeddings.ipynb\" target=\"_parent\"><img src=\"https://colab.research.google.com/assets/colab-badge.svg\" alt=\"Open In Colab\"/></a>"
      ]
    },
    {
      "cell_type": "code",
      "metadata": {
        "id": "deyqIMQ5ultc"
      },
      "source": [
        "import pandas as pd\r\n",
        "import numpy as np\r\n",
        "from sklearn.feature_extraction.text import CountVectorizer\r\n",
        "from keras.preprocessing.text import Tokenizer\r\n",
        "from keras.preprocessing.sequence import pad_sequences\r\n",
        "from keras.models import Sequential\r\n",
        "from keras.layers import Dense, Embedding, LSTM, Bidirectional, Dropout\r\n",
        "from sklearn.model_selection import train_test_split\r\n",
        "from keras.utils.np_utils import to_categorical\r\n",
        "import re\r\n",
        "import matplotlib.pyplot as plt"
      ],
      "execution_count": 1,
      "outputs": []
    },
    {
      "cell_type": "code",
      "metadata": {
        "colab": {
          "base_uri": "https://localhost:8080/",
          "height": 355
        },
        "id": "7YOEvvh9uJRN",
        "outputId": "9d50901a-864e-4dc7-d82f-ea49b6dd9208"
      },
      "source": [
        "import pandas as pd\r\n",
        "train = pd.read_csv('/content/Constraint_English_Train - Sheet1.csv',#delimiter=',',\r\n",
        "                 header=None,names=['id','tweet','label'])\r\n",
        "train = train.drop(columns='id')\r\n",
        "train= train[1:]\r\n",
        "train.label = train.label.apply({'fake':0,'real':1}.get)\r\n",
        "train.head(10) "
      ],
      "execution_count": 2,
      "outputs": [
        {
          "output_type": "execute_result",
          "data": {
            "text/html": [
              "<div>\n",
              "<style scoped>\n",
              "    .dataframe tbody tr th:only-of-type {\n",
              "        vertical-align: middle;\n",
              "    }\n",
              "\n",
              "    .dataframe tbody tr th {\n",
              "        vertical-align: top;\n",
              "    }\n",
              "\n",
              "    .dataframe thead th {\n",
              "        text-align: right;\n",
              "    }\n",
              "</style>\n",
              "<table border=\"1\" class=\"dataframe\">\n",
              "  <thead>\n",
              "    <tr style=\"text-align: right;\">\n",
              "      <th></th>\n",
              "      <th>tweet</th>\n",
              "      <th>label</th>\n",
              "    </tr>\n",
              "  </thead>\n",
              "  <tbody>\n",
              "    <tr>\n",
              "      <th>1</th>\n",
              "      <td>The CDC currently reports 99031 deaths. In gen...</td>\n",
              "      <td>1</td>\n",
              "    </tr>\n",
              "    <tr>\n",
              "      <th>2</th>\n",
              "      <td>States reported 1121 deaths a small rise from ...</td>\n",
              "      <td>1</td>\n",
              "    </tr>\n",
              "    <tr>\n",
              "      <th>3</th>\n",
              "      <td>Politically Correct Woman (Almost) Uses Pandem...</td>\n",
              "      <td>0</td>\n",
              "    </tr>\n",
              "    <tr>\n",
              "      <th>4</th>\n",
              "      <td>#IndiaFightsCorona: We have 1524 #COVID testin...</td>\n",
              "      <td>1</td>\n",
              "    </tr>\n",
              "    <tr>\n",
              "      <th>5</th>\n",
              "      <td>Populous states can generate large case counts...</td>\n",
              "      <td>1</td>\n",
              "    </tr>\n",
              "    <tr>\n",
              "      <th>6</th>\n",
              "      <td>Covid Act Now found \"on average each person in...</td>\n",
              "      <td>1</td>\n",
              "    </tr>\n",
              "    <tr>\n",
              "      <th>7</th>\n",
              "      <td>If you tested positive for #COVID19 and have n...</td>\n",
              "      <td>1</td>\n",
              "    </tr>\n",
              "    <tr>\n",
              "      <th>8</th>\n",
              "      <td>Obama Calls Trump’s Coronavirus Response A Cha...</td>\n",
              "      <td>0</td>\n",
              "    </tr>\n",
              "    <tr>\n",
              "      <th>9</th>\n",
              "      <td>???Clearly, the Obama administration did not l...</td>\n",
              "      <td>0</td>\n",
              "    </tr>\n",
              "    <tr>\n",
              "      <th>10</th>\n",
              "      <td>Retraction—Hydroxychloroquine or chloroquine w...</td>\n",
              "      <td>0</td>\n",
              "    </tr>\n",
              "  </tbody>\n",
              "</table>\n",
              "</div>"
            ],
            "text/plain": [
              "                                                tweet  label\n",
              "1   The CDC currently reports 99031 deaths. In gen...      1\n",
              "2   States reported 1121 deaths a small rise from ...      1\n",
              "3   Politically Correct Woman (Almost) Uses Pandem...      0\n",
              "4   #IndiaFightsCorona: We have 1524 #COVID testin...      1\n",
              "5   Populous states can generate large case counts...      1\n",
              "6   Covid Act Now found \"on average each person in...      1\n",
              "7   If you tested positive for #COVID19 and have n...      1\n",
              "8   Obama Calls Trump’s Coronavirus Response A Cha...      0\n",
              "9   ???Clearly, the Obama administration did not l...      0\n",
              "10  Retraction—Hydroxychloroquine or chloroquine w...      0"
            ]
          },
          "metadata": {
            "tags": []
          },
          "execution_count": 2
        }
      ]
    },
    {
      "cell_type": "code",
      "metadata": {
        "colab": {
          "base_uri": "https://localhost:8080/",
          "height": 415
        },
        "id": "sfCl6_Ouuam2",
        "outputId": "284c2171-5ccb-4e52-fd5b-e4ea665874c4"
      },
      "source": [
        "test=pd.read_csv('/content/english_test_with_labels - Sheet1.csv')\r\n",
        "test.label = test.label.apply({'fake':0,'real':1}.get)\r\n",
        "test"
      ],
      "execution_count": 3,
      "outputs": [
        {
          "output_type": "execute_result",
          "data": {
            "text/html": [
              "<div>\n",
              "<style scoped>\n",
              "    .dataframe tbody tr th:only-of-type {\n",
              "        vertical-align: middle;\n",
              "    }\n",
              "\n",
              "    .dataframe tbody tr th {\n",
              "        vertical-align: top;\n",
              "    }\n",
              "\n",
              "    .dataframe thead th {\n",
              "        text-align: right;\n",
              "    }\n",
              "</style>\n",
              "<table border=\"1\" class=\"dataframe\">\n",
              "  <thead>\n",
              "    <tr style=\"text-align: right;\">\n",
              "      <th></th>\n",
              "      <th>id</th>\n",
              "      <th>tweet</th>\n",
              "      <th>label</th>\n",
              "    </tr>\n",
              "  </thead>\n",
              "  <tbody>\n",
              "    <tr>\n",
              "      <th>0</th>\n",
              "      <td>1</td>\n",
              "      <td>Our daily update is published. States reported...</td>\n",
              "      <td>1</td>\n",
              "    </tr>\n",
              "    <tr>\n",
              "      <th>1</th>\n",
              "      <td>2</td>\n",
              "      <td>Alfalfa is the only cure for COVID-19.</td>\n",
              "      <td>0</td>\n",
              "    </tr>\n",
              "    <tr>\n",
              "      <th>2</th>\n",
              "      <td>3</td>\n",
              "      <td>President Trump Asked What He Would Do If He W...</td>\n",
              "      <td>0</td>\n",
              "    </tr>\n",
              "    <tr>\n",
              "      <th>3</th>\n",
              "      <td>4</td>\n",
              "      <td>States reported 630 deaths. We are still seein...</td>\n",
              "      <td>1</td>\n",
              "    </tr>\n",
              "    <tr>\n",
              "      <th>4</th>\n",
              "      <td>5</td>\n",
              "      <td>This is the sixth time a global health emergen...</td>\n",
              "      <td>1</td>\n",
              "    </tr>\n",
              "    <tr>\n",
              "      <th>...</th>\n",
              "      <td>...</td>\n",
              "      <td>...</td>\n",
              "      <td>...</td>\n",
              "    </tr>\n",
              "    <tr>\n",
              "      <th>2135</th>\n",
              "      <td>2136</td>\n",
              "      <td>#CoronaVirusUpdates: State-wise details of Tot...</td>\n",
              "      <td>1</td>\n",
              "    </tr>\n",
              "    <tr>\n",
              "      <th>2136</th>\n",
              "      <td>2137</td>\n",
              "      <td>Tonight 12(midnight) onwards Disaster Manageme...</td>\n",
              "      <td>0</td>\n",
              "    </tr>\n",
              "    <tr>\n",
              "      <th>2137</th>\n",
              "      <td>2138</td>\n",
              "      <td>296 new cases of #COVID19Nigeria; Plateau-85 E...</td>\n",
              "      <td>1</td>\n",
              "    </tr>\n",
              "    <tr>\n",
              "      <th>2138</th>\n",
              "      <td>2139</td>\n",
              "      <td>RT @CDCemergency: #DYK? @CDCgov’s One-Stop Sho...</td>\n",
              "      <td>1</td>\n",
              "    </tr>\n",
              "    <tr>\n",
              "      <th>2139</th>\n",
              "      <td>2140</td>\n",
              "      <td>More than half of pregnant women recently admi...</td>\n",
              "      <td>1</td>\n",
              "    </tr>\n",
              "  </tbody>\n",
              "</table>\n",
              "<p>2140 rows × 3 columns</p>\n",
              "</div>"
            ],
            "text/plain": [
              "        id                                              tweet  label\n",
              "0        1  Our daily update is published. States reported...      1\n",
              "1        2             Alfalfa is the only cure for COVID-19.      0\n",
              "2        3  President Trump Asked What He Would Do If He W...      0\n",
              "3        4  States reported 630 deaths. We are still seein...      1\n",
              "4        5  This is the sixth time a global health emergen...      1\n",
              "...    ...                                                ...    ...\n",
              "2135  2136  #CoronaVirusUpdates: State-wise details of Tot...      1\n",
              "2136  2137  Tonight 12(midnight) onwards Disaster Manageme...      0\n",
              "2137  2138  296 new cases of #COVID19Nigeria; Plateau-85 E...      1\n",
              "2138  2139  RT @CDCemergency: #DYK? @CDCgov’s One-Stop Sho...      1\n",
              "2139  2140  More than half of pregnant women recently admi...      1\n",
              "\n",
              "[2140 rows x 3 columns]"
            ]
          },
          "metadata": {
            "tags": []
          },
          "execution_count": 3
        }
      ]
    },
    {
      "cell_type": "code",
      "metadata": {
        "colab": {
          "base_uri": "https://localhost:8080/",
          "height": 415
        },
        "id": "3yzOpbSsubO7",
        "outputId": "c29a8df5-c463-48e7-b02d-b79286ffbbeb"
      },
      "source": [
        "val = pd.read_csv('/content/Constraint_English_Test - Sheet1.csv')\r\n",
        "val = val.drop(columns='id')\r\n",
        "#val = val[1:]\r\n",
        "val['label']=test['label']\r\n",
        "val"
      ],
      "execution_count": 4,
      "outputs": [
        {
          "output_type": "execute_result",
          "data": {
            "text/html": [
              "<div>\n",
              "<style scoped>\n",
              "    .dataframe tbody tr th:only-of-type {\n",
              "        vertical-align: middle;\n",
              "    }\n",
              "\n",
              "    .dataframe tbody tr th {\n",
              "        vertical-align: top;\n",
              "    }\n",
              "\n",
              "    .dataframe thead th {\n",
              "        text-align: right;\n",
              "    }\n",
              "</style>\n",
              "<table border=\"1\" class=\"dataframe\">\n",
              "  <thead>\n",
              "    <tr style=\"text-align: right;\">\n",
              "      <th></th>\n",
              "      <th>tweet</th>\n",
              "      <th>label</th>\n",
              "    </tr>\n",
              "  </thead>\n",
              "  <tbody>\n",
              "    <tr>\n",
              "      <th>0</th>\n",
              "      <td>Our daily update is published. States reported...</td>\n",
              "      <td>1</td>\n",
              "    </tr>\n",
              "    <tr>\n",
              "      <th>1</th>\n",
              "      <td>Alfalfa is the only cure for COVID-19.</td>\n",
              "      <td>0</td>\n",
              "    </tr>\n",
              "    <tr>\n",
              "      <th>2</th>\n",
              "      <td>President Trump Asked What He Would Do If He W...</td>\n",
              "      <td>0</td>\n",
              "    </tr>\n",
              "    <tr>\n",
              "      <th>3</th>\n",
              "      <td>States reported 630 deaths. We are still seein...</td>\n",
              "      <td>1</td>\n",
              "    </tr>\n",
              "    <tr>\n",
              "      <th>4</th>\n",
              "      <td>This is the sixth time a global health emergen...</td>\n",
              "      <td>1</td>\n",
              "    </tr>\n",
              "    <tr>\n",
              "      <th>...</th>\n",
              "      <td>...</td>\n",
              "      <td>...</td>\n",
              "    </tr>\n",
              "    <tr>\n",
              "      <th>2135</th>\n",
              "      <td>#CoronaVirusUpdates: State-wise details of Tot...</td>\n",
              "      <td>1</td>\n",
              "    </tr>\n",
              "    <tr>\n",
              "      <th>2136</th>\n",
              "      <td>Tonight 12(midnight) onwards Disaster Manageme...</td>\n",
              "      <td>0</td>\n",
              "    </tr>\n",
              "    <tr>\n",
              "      <th>2137</th>\n",
              "      <td>296 new cases of #COVID19Nigeria; Plateau-85 E...</td>\n",
              "      <td>1</td>\n",
              "    </tr>\n",
              "    <tr>\n",
              "      <th>2138</th>\n",
              "      <td>RT @CDCemergency: #DYK? @CDCgov’s One-Stop Sho...</td>\n",
              "      <td>1</td>\n",
              "    </tr>\n",
              "    <tr>\n",
              "      <th>2139</th>\n",
              "      <td>More than half of pregnant women recently admi...</td>\n",
              "      <td>1</td>\n",
              "    </tr>\n",
              "  </tbody>\n",
              "</table>\n",
              "<p>2140 rows × 2 columns</p>\n",
              "</div>"
            ],
            "text/plain": [
              "                                                  tweet  label\n",
              "0     Our daily update is published. States reported...      1\n",
              "1                Alfalfa is the only cure for COVID-19.      0\n",
              "2     President Trump Asked What He Would Do If He W...      0\n",
              "3     States reported 630 deaths. We are still seein...      1\n",
              "4     This is the sixth time a global health emergen...      1\n",
              "...                                                 ...    ...\n",
              "2135  #CoronaVirusUpdates: State-wise details of Tot...      1\n",
              "2136  Tonight 12(midnight) onwards Disaster Manageme...      0\n",
              "2137  296 new cases of #COVID19Nigeria; Plateau-85 E...      1\n",
              "2138  RT @CDCemergency: #DYK? @CDCgov’s One-Stop Sho...      1\n",
              "2139  More than half of pregnant women recently admi...      1\n",
              "\n",
              "[2140 rows x 2 columns]"
            ]
          },
          "metadata": {
            "tags": []
          },
          "execution_count": 4
        }
      ]
    },
    {
      "cell_type": "code",
      "metadata": {
        "colab": {
          "base_uri": "https://localhost:8080/"
        },
        "id": "aWEPj-pgwEMt",
        "outputId": "079eb626-936b-4605-95e1-24da6f9c947f"
      },
      "source": [
        "import nltk\r\n",
        "from nltk.tokenize import TweetTokenizer\r\n",
        "def tokenizer(df):\r\n",
        "    tknzr = TweetTokenizer(strip_handles=True)\r\n",
        "    df['tweet']= df['tweet'].apply(lambda x: tknzr.tokenize(x))\r\n",
        "    print(df)\r\n",
        "    \r\n",
        "tokenizer(val)\r\n",
        "tokenizer(train)"
      ],
      "execution_count": 5,
      "outputs": [
        {
          "output_type": "stream",
          "text": [
            "                                                  tweet  label\n",
            "0     [Our, daily, update, is, published, ., States,...      1\n",
            "1     [Alfalfa, is, the, only, cure, for, COVID, -, ...      0\n",
            "2     [President, Trump, Asked, What, He, Would, Do,...      0\n",
            "3     [States, reported, 630, deaths, ., We, are, st...      1\n",
            "4     [This, is, the, sixth, time, a, global, health...      1\n",
            "...                                                 ...    ...\n",
            "2135  [#CoronaVirusUpdates, :, State-wise, details, ...      1\n",
            "2136  [Tonight, 12, (, midnight, ), onwards, Disaste...      0\n",
            "2137  [296, new, cases, of, #COVID19Nigeria, ;, Plat...      1\n",
            "2138  [RT, :, #DYK, ?, ’, s, One-Stop, Shop, for, #C...      1\n",
            "2139  [More, than, half, of, pregnant, women, recent...      1\n",
            "\n",
            "[2140 rows x 2 columns]\n",
            "                                                  tweet  label\n",
            "1     [The, CDC, currently, reports, 99031, deaths, ...      1\n",
            "2     [States, reported, 1121, deaths, a, small, ris...      1\n",
            "3     [Politically, Correct, Woman, (, Almost, ), Us...      0\n",
            "4     [#IndiaFightsCorona, :, We, have, 1524, #COVID...      1\n",
            "5     [Populous, states, can, generate, large, case,...      1\n",
            "...                                                 ...    ...\n",
            "6416  [A, tiger, tested, positive, for, COVID, -, 19...      0\n",
            "6417  [?, ?, ?, Autopsies, prove, that, COVID, -, 19...      0\n",
            "6418  [_A, post, claims, a, COVID, -, 19, vaccine, h...      0\n",
            "6419  [Aamir, Khan, Donate, 250, Cr, ., In, PM, Reli...      0\n",
            "6420  [It, has, been, 93, days, since, the, last, ca...      1\n",
            "\n",
            "[6420 rows x 2 columns]\n"
          ],
          "name": "stdout"
        }
      ]
    },
    {
      "cell_type": "code",
      "metadata": {
        "colab": {
          "base_uri": "https://localhost:8080/"
        },
        "id": "Eg04tiOqwSzh",
        "outputId": "47104b89-6c12-42ff-bfeb-e4601da35c57"
      },
      "source": [
        "import re\r\n",
        "def clean(df):\r\n",
        "    df['tweet']=df['tweet'].apply(lambda x: [i for i in x if not re.match('[^\\w\\s]',i) and len(i)>3])\r\n",
        "    print(df)\r\n",
        "clean(train)\r\n",
        "clean(val)"
      ],
      "execution_count": 6,
      "outputs": [
        {
          "output_type": "stream",
          "text": [
            "                                                  tweet  label\n",
            "1     [currently, reports, 99031, deaths, general, d...      1\n",
            "2     [States, reported, 1121, deaths, small, rise, ...      1\n",
            "3     [Politically, Correct, Woman, Almost, Uses, Pa...      0\n",
            "4     [have, 1524, testing, laboratories, India, 25t...      1\n",
            "5     [Populous, states, generate, large, case, coun...      1\n",
            "...                                                 ...    ...\n",
            "6416  [tiger, tested, positive, COVID, please, stay,...      0\n",
            "6417  [Autopsies, prove, that, COVID, blood, clot, p...      0\n",
            "6418  [post, claims, COVID, vaccine, already, been, ...      0\n",
            "6419         [Aamir, Khan, Donate, Relief, Cares, Fund]      0\n",
            "6420  [been, days, since, last, case, COVID, acquire...      1\n",
            "\n",
            "[6420 rows x 2 columns]\n",
            "                                                  tweet  label\n",
            "0     [daily, update, published, States, reported, 7...      1\n",
            "1                          [Alfalfa, only, cure, COVID]      0\n",
            "2     [President, Trump, Asked, What, Would, Were, C...      0\n",
            "3     [States, reported, deaths, still, seeing, soli...      1\n",
            "4     [This, sixth, time, global, health, emergency,...      1\n",
            "...                                                 ...    ...\n",
            "2135  [State-wise, details, Total, Confirmed, cases,...      1\n",
            "2136  [Tonight, midnight, onwards, Disaster, Managem...      0\n",
            "2137  [cases, Plateau, Enugu, Lagos, Rivers, Kaduna,...      1\n",
            "2138  [One-Stop, Shop, Resources, section, communica...      1\n",
            "2139  [More, than, half, pregnant, women, recently, ...      1\n",
            "\n",
            "[2140 rows x 2 columns]\n"
          ],
          "name": "stdout"
        }
      ]
    },
    {
      "cell_type": "code",
      "metadata": {
        "colab": {
          "base_uri": "https://localhost:8080/"
        },
        "id": "K0GMxJwYwsmh",
        "outputId": "9e7b20a9-75fd-4f0d-d32b-fa26846c1cb1"
      },
      "source": [
        "nltk.download('stopwords')\r\n",
        "nltk.download('wordnet')"
      ],
      "execution_count": 7,
      "outputs": [
        {
          "output_type": "stream",
          "text": [
            "[nltk_data] Downloading package stopwords to /root/nltk_data...\n",
            "[nltk_data]   Unzipping corpora/stopwords.zip.\n",
            "[nltk_data] Downloading package wordnet to /root/nltk_data...\n",
            "[nltk_data]   Unzipping corpora/wordnet.zip.\n"
          ],
          "name": "stdout"
        },
        {
          "output_type": "execute_result",
          "data": {
            "text/plain": [
              "True"
            ]
          },
          "metadata": {
            "tags": []
          },
          "execution_count": 7
        }
      ]
    },
    {
      "cell_type": "code",
      "metadata": {
        "colab": {
          "base_uri": "https://localhost:8080/"
        },
        "id": "5wGzplszwSpM",
        "outputId": "32ee5cad-0865-43a5-e8de-b47b15716e0d"
      },
      "source": [
        "from nltk.stem import PorterStemmer\r\n",
        "from textblob import Word\r\n",
        "st = PorterStemmer()\r\n",
        "def stemnlemm(df):\r\n",
        "    df['tweet']=df['tweet'].apply(lambda x: [Word(st.stem(i)).lemmatize() for i in x])\r\n",
        "    print(df)\r\n",
        "stemnlemm(train)\r\n",
        "stemnlemm(val)"
      ],
      "execution_count": 8,
      "outputs": [
        {
          "output_type": "stream",
          "text": [
            "                                                  tweet  label\n",
            "1     [current, report, 99031, death, gener, discrep...      1\n",
            "2     [state, report, 1121, death, small, rise, from...      1\n",
            "3     [polit, correct, woman, almost, use, pandem, e...      0\n",
            "4     [have, 1524, test, laboratori, india, 25th, au...      1\n",
            "5     [popul, state, gener, larg, case, count, look,...      1\n",
            "...                                                 ...    ...\n",
            "6416  [tiger, test, posit, covid, plea, stay, away, ...      0\n",
            "6417  [autopsi, prove, that, covid, blood, clot, pne...      0\n",
            "6418  [post, claim, covid, vaccin, alreadi, been, de...      0\n",
            "6419           [aamir, khan, donat, relief, care, fund]      0\n",
            "6420  [been, day, sinc, last, case, covid, acquir, l...      1\n",
            "\n",
            "[6420 rows x 2 columns]\n",
            "                                                  tweet  label\n",
            "0     [daili, updat, publish, state, report, 734k, t...      1\n",
            "1                          [alfalfa, onli, cure, covid]      0\n",
            "2     [presid, trump, ask, what, would, were, catch,...      0\n",
            "3     [state, report, death, still, see, solid, nati...      1\n",
            "4     [thi, sixth, time, global, health, emerg, been...      1\n",
            "...                                                 ...    ...\n",
            "2135  [state-wis, detail, total, confirm, case, till...      1\n",
            "2136  [tonight, midnight, onward, disast, manag, bee...      0\n",
            "2137  [case, plateau, enugu, lago, river, kaduna, ba...      1\n",
            "2138  [one-stop, shop, resourc, section, commun, wit...      1\n",
            "2139  [more, than, half, pregnant, woman, recent, ad...      1\n",
            "\n",
            "[2140 rows x 2 columns]\n"
          ],
          "name": "stdout"
        }
      ]
    },
    {
      "cell_type": "code",
      "metadata": {
        "colab": {
          "base_uri": "https://localhost:8080/"
        },
        "id": "2J92XcAtw0Xe",
        "outputId": "e2cd72b2-752d-4047-f0ae-e5f33064b253"
      },
      "source": [
        "import nltk\r\n",
        "from nltk.corpus import stopwords\r\n",
        "stop=stopwords.words(\"english\")\r\n",
        "def stop_words(df):\r\n",
        "    df['tweet']=df['tweet'].apply(lambda x: [i.lower() for i in x if i not in stop])\r\n",
        "    print(df)\r\n",
        "stop_words(train)\r\n",
        "stop_words(val)"
      ],
      "execution_count": 9,
      "outputs": [
        {
          "output_type": "stream",
          "text": [
            "                                                  tweet  label\n",
            "1     [current, report, 99031, death, gener, discrep...      1\n",
            "2     [state, report, 1121, death, small, rise, last...      1\n",
            "3     [polit, correct, woman, almost, use, pandem, e...      0\n",
            "4     [1524, test, laboratori, india, 25th, august, ...      1\n",
            "5     [popul, state, gener, larg, case, count, look,...      1\n",
            "...                                                 ...    ...\n",
            "6416  [tiger, test, posit, covid, plea, stay, away, ...      0\n",
            "6417  [autopsi, prove, covid, blood, clot, pneumonia...      0\n",
            "6418  [post, claim, covid, vaccin, alreadi, develop,...      0\n",
            "6419           [aamir, khan, donat, relief, care, fund]      0\n",
            "6420  [day, sinc, last, case, covid, acquir, local, ...      1\n",
            "\n",
            "[6420 rows x 2 columns]\n",
            "                                                  tweet  label\n",
            "0     [daili, updat, publish, state, report, 734k, t...      1\n",
            "1                          [alfalfa, onli, cure, covid]      0\n",
            "2     [presid, trump, ask, would, catch, coronaviru,...      0\n",
            "3     [state, report, death, still, see, solid, nati...      1\n",
            "4     [thi, sixth, time, global, health, emerg, decl...      1\n",
            "...                                                 ...    ...\n",
            "2135  [state-wis, detail, total, confirm, case, till...      1\n",
            "2136  [tonight, midnight, onward, disast, manag, imp...      0\n",
            "2137  [case, plateau, enugu, lago, river, kaduna, ba...      1\n",
            "2138  [one-stop, shop, resourc, section, commun, peo...      1\n",
            "2139  [half, pregnant, woman, recent, admit, hospit,...      1\n",
            "\n",
            "[2140 rows x 2 columns]\n"
          ],
          "name": "stdout"
        }
      ]
    },
    {
      "cell_type": "code",
      "metadata": {
        "id": "3yRLlbmax3U6"
      },
      "source": [
        "max_features = 2000\r\n",
        "max_len = 512\r\n",
        "tokenizer = Tokenizer(num_words=max_features, split=' ')\r\n",
        "tokenizer.fit_on_texts(train['tweet'].values)\r\n",
        "tokenizer.fit_on_texts(val['tweet'].values)\r\n",
        "X_train = tokenizer.texts_to_sequences(train['tweet'].values)\r\n",
        "X_test = tokenizer.texts_to_sequences(val['tweet'].values)\r\n",
        "# vocab_size = len(tokenizer.word_index) + 1\r\n",
        "X_train = pad_sequences(X_train,padding = 'post', maxlen=max_len)\r\n",
        "X_test = pad_sequences(X_test,padding = 'post', maxlen=max_len)"
      ],
      "execution_count": 10,
      "outputs": []
    },
    {
      "cell_type": "code",
      "metadata": {
        "colab": {
          "base_uri": "https://localhost:8080/"
        },
        "id": "_7GPJ0iAuzxT",
        "outputId": "04f33759-86ca-4fc1-ed62-d215b64b9865"
      },
      "source": [
        "#X_train=train['tweet']\r\n",
        "Y_train=train['label']\r\n",
        "#X_test=val['tweet']\r\n",
        "Y_test=val['label']\r\n",
        "print(X_train.shape,Y_train.shape)\r\n",
        "print(X_test.shape,Y_test.shape)"
      ],
      "execution_count": 11,
      "outputs": [
        {
          "output_type": "stream",
          "text": [
            "(6420, 512) (6420,)\n",
            "(2140, 512) (2140,)\n"
          ],
          "name": "stdout"
        }
      ]
    },
    {
      "cell_type": "code",
      "metadata": {
        "id": "AoL5UxG0vhyD"
      },
      "source": [
        "from keras.layers import Layer\r\n",
        "from keras.layers import Input\r\n",
        "from keras.models import Model\r\n",
        "from tensorflow.keras import backend as K\r\n",
        "\r\n",
        "class attention(Layer):\r\n",
        "    def __init__(self):\r\n",
        "        super(attention,self).__init__()\r\n",
        "\r\n",
        "    def build(self,input_shape):\r\n",
        "        self.W=self.add_weight(name=\"att_weight\",shape=(input_shape[-1],1),initializer=\"normal\")\r\n",
        "        self.b=self.add_weight(name=\"att_bias\",shape=(input_shape[1],1),initializer=\"zeros\")        \r\n",
        "        super(attention, self).build(input_shape)\r\n",
        "\r\n",
        "    def call(self,x):\r\n",
        "        et=K.squeeze(K.tanh(K.dot(x,self.W)+self.b),axis=-1)\r\n",
        "        at=K.softmax(et)\r\n",
        "        at=K.expand_dims(at,axis=-1)\r\n",
        "        output=x*at\r\n",
        "        return K.sum(output,axis=1)\r\n",
        "\r\n",
        "    def compute_output_shape(self,input_shape):\r\n",
        "        return (input_shape[0],input_shape[-1])\r\n",
        "\r\n",
        "    def get_config(self):\r\n",
        "        return super(attention,self).get_config()"
      ],
      "execution_count": 12,
      "outputs": []
    },
    {
      "cell_type": "code",
      "metadata": {
        "colab": {
          "base_uri": "https://localhost:8080/"
        },
        "id": "YTZj-H8jy9pW",
        "outputId": "996bf128-c8b3-4854-ad8a-8bf4565f4a71"
      },
      "source": [
        "!wget --header=\"Host: nlp.stanford.edu\" --header=\"User-Agent: Mozilla/5.0 (Windows NT 10.0; Win64; x64) AppleWebKit/537.36 (KHTML, like Gecko) Chrome/69.0.3497.100 Safari/537.36\" --header=\"Accept: text/html,application/xhtml+xml,application/xml;q=0.9,image/webp,image/apng,*/*;q=0.8\" --header=\"Accept-Language: en-US,en;q=0.9\" --header=\"Cookie: _ga=GA1.2.456156586.1539718115; _gid=GA1.2.491677602.1539718115; _gat=1\" --header=\"Connection: keep-alive\" \"https://nlp.stanford.edu/data/glove.6B.zip\" -O \"glove.6B.zip\" -c"
      ],
      "execution_count": 13,
      "outputs": [
        {
          "output_type": "stream",
          "text": [
            "--2020-12-19 18:49:42--  https://nlp.stanford.edu/data/glove.6B.zip\n",
            "Resolving nlp.stanford.edu (nlp.stanford.edu)... 171.64.67.140\n",
            "Connecting to nlp.stanford.edu (nlp.stanford.edu)|171.64.67.140|:443... connected.\n",
            "HTTP request sent, awaiting response... 301 Moved Permanently\n",
            "Location: http://downloads.cs.stanford.edu/nlp/data/glove.6B.zip [following]\n",
            "--2020-12-19 18:49:42--  http://downloads.cs.stanford.edu/nlp/data/glove.6B.zip\n",
            "Resolving downloads.cs.stanford.edu (downloads.cs.stanford.edu)... 171.64.64.22\n",
            "Connecting to downloads.cs.stanford.edu (downloads.cs.stanford.edu)|171.64.64.22|:80... connected.\n",
            "HTTP request sent, awaiting response... 200 OK\n",
            "Length: 862182613 (822M) [application/zip]\n",
            "Saving to: ‘glove.6B.zip’\n",
            "\n",
            "glove.6B.zip        100%[===================>] 822.24M  2.21MB/s    in 6m 27s  \n",
            "\n",
            "2020-12-19 18:56:09 (2.12 MB/s) - ‘glove.6B.zip’ saved [862182613/862182613]\n",
            "\n"
          ],
          "name": "stdout"
        }
      ]
    },
    {
      "cell_type": "code",
      "metadata": {
        "colab": {
          "base_uri": "https://localhost:8080/"
        },
        "id": "pxANjEMvysPz",
        "outputId": "49960f12-89db-471f-cfc6-ee300b73761c"
      },
      "source": [
        "!unzip glove.6B.zip"
      ],
      "execution_count": 14,
      "outputs": [
        {
          "output_type": "stream",
          "text": [
            "Archive:  glove.6B.zip\n",
            "  inflating: glove.6B.50d.txt        \n",
            "  inflating: glove.6B.100d.txt       \n",
            "  inflating: glove.6B.200d.txt       \n",
            "  inflating: glove.6B.300d.txt       \n"
          ],
          "name": "stdout"
        }
      ]
    },
    {
      "cell_type": "code",
      "metadata": {
        "colab": {
          "base_uri": "https://localhost:8080/"
        },
        "id": "fHPrxH7yyv6f",
        "outputId": "3b02c526-b2e7-47d6-96aa-44540e0c254d"
      },
      "source": [
        " from numpy import asarray\r\n",
        " from numpy import zeros\r\n",
        "\r\n",
        " embeddings_index = dict()\r\n",
        "\r\n",
        " glove_file = open('glove.6B.100d.txt', encoding=\"utf8\")\r\n",
        "\r\n",
        " for line in glove_file:\r\n",
        "     records = line.split()\r\n",
        "     word = records[0]\r\n",
        "     vector_dimensions = asarray(records[1:], dtype='float32')\r\n",
        "     embeddings_index[word] = vector_dimensions\r\n",
        " glove_file.close()\r\n",
        "\r\n",
        " print('Found %s word vectors.' %len(embeddings_index))"
      ],
      "execution_count": 16,
      "outputs": [
        {
          "output_type": "stream",
          "text": [
            "Found 400000 word vectors.\n"
          ],
          "name": "stdout"
        }
      ]
    },
    {
      "cell_type": "code",
      "metadata": {
        "colab": {
          "base_uri": "https://localhost:8080/"
        },
        "id": "T-7Ct8u9yzsQ",
        "outputId": "98e782a7-4d18-4338-e9ce-7643326e93df"
      },
      "source": [
        "word_index = tokenizer.word_index\r\n",
        "print(len(word_index))\r\n",
        "\r\n",
        "\r\n",
        "num_words = min(max_features, len(word_index)) + 1\r\n",
        "print(num_words)\r\n",
        "\r\n",
        "embedding_dim = 100\r\n",
        "\r\n",
        "embedding_matrix = np.zeros((num_words, embedding_dim))\r\n",
        "\r\n",
        "for word, i in word_index.items():\r\n",
        "    if i > max_features:\r\n",
        "        continue\r\n",
        "    embedding_vector = embeddings_index.get(word)\r\n",
        "    if embedding_vector is not None:\r\n",
        "        embedding_matrix[i] = embedding_vector\r\n",
        "    else:\r\n",
        "        embedding_matrix[i] = np.random.randn(embedding_dim)"
      ],
      "execution_count": 17,
      "outputs": [
        {
          "output_type": "stream",
          "text": [
            "16112\n",
            "2001\n"
          ],
          "name": "stdout"
        }
      ]
    },
    {
      "cell_type": "code",
      "metadata": {
        "colab": {
          "base_uri": "https://localhost:8080/"
        },
        "id": "vK5m808g1Mn8",
        "outputId": "10eb6a6c-81c6-419f-91ff-0c3398c2abf5"
      },
      "source": [
        "K.clear_session()\r\n",
        "from keras.regularizers import l2\r\n",
        "from keras.initializers import Constant\r\n",
        "embed_dim = 100\r\n",
        "lstm_out = 128\r\n",
        "# model = Sequential()\r\n",
        "inputs = Input(shape=(512,))\r\n",
        "x = Embedding(num_words, embed_dim,embeddings_initializer=Constant(embedding_matrix),input_length = X_train.shape[1])(inputs)\r\n",
        "att_in = Bidirectional(LSTM(lstm_out,return_sequences=True, dropout=0.2))(x)\r\n",
        "att_out = attention()(att_in)\r\n",
        "d = Dropout(0.2)(att_out)\r\n",
        "outputs = Dense(1, activation='sigmoid')(d)\r\n",
        "model = Model(inputs,outputs)\r\n",
        "print(model.summary())"
      ],
      "execution_count": 18,
      "outputs": [
        {
          "output_type": "stream",
          "text": [
            "Model: \"model\"\n",
            "_________________________________________________________________\n",
            "Layer (type)                 Output Shape              Param #   \n",
            "=================================================================\n",
            "input_1 (InputLayer)         [(None, 512)]             0         \n",
            "_________________________________________________________________\n",
            "embedding (Embedding)        (None, 512, 100)          200100    \n",
            "_________________________________________________________________\n",
            "bidirectional (Bidirectional (None, 512, 256)          234496    \n",
            "_________________________________________________________________\n",
            "attention (attention)        (None, 256)               768       \n",
            "_________________________________________________________________\n",
            "dropout (Dropout)            (None, 256)               0         \n",
            "_________________________________________________________________\n",
            "dense (Dense)                (None, 1)                 257       \n",
            "=================================================================\n",
            "Total params: 435,621\n",
            "Trainable params: 435,621\n",
            "Non-trainable params: 0\n",
            "_________________________________________________________________\n",
            "None\n"
          ],
          "name": "stdout"
        }
      ]
    },
    {
      "cell_type": "code",
      "metadata": {
        "id": "40CaGXZW1RSI"
      },
      "source": [
        "model.compile(loss = 'binary_crossentropy', optimizer='adam',metrics = ['accuracy'])"
      ],
      "execution_count": 19,
      "outputs": []
    },
    {
      "cell_type": "code",
      "metadata": {
        "colab": {
          "base_uri": "https://localhost:8080/"
        },
        "id": "Tg_BPKzs1VP_",
        "outputId": "b1f642cb-4b78-435c-a607-bb525a1be59a"
      },
      "source": [
        "history = model.fit(X_train, Y_train, batch_size = 180, validation_data=(X_test,Y_test), epochs=50, verbose=2)"
      ],
      "execution_count": 44,
      "outputs": [
        {
          "output_type": "stream",
          "text": [
            "Epoch 1/50\n",
            "36/36 - 5s - loss: 0.1181 - accuracy: 0.9570 - val_loss: 0.3244 - val_accuracy: 0.8902\n",
            "Epoch 2/50\n",
            "36/36 - 5s - loss: 0.1117 - accuracy: 0.9607 - val_loss: 0.3173 - val_accuracy: 0.8949\n",
            "Epoch 3/50\n",
            "36/36 - 5s - loss: 0.1023 - accuracy: 0.9636 - val_loss: 0.3291 - val_accuracy: 0.8916\n",
            "Epoch 4/50\n",
            "36/36 - 5s - loss: 0.1030 - accuracy: 0.9646 - val_loss: 0.3448 - val_accuracy: 0.8916\n",
            "Epoch 5/50\n",
            "36/36 - 5s - loss: 0.0959 - accuracy: 0.9679 - val_loss: 0.3330 - val_accuracy: 0.8958\n",
            "Epoch 6/50\n",
            "36/36 - 5s - loss: 0.0982 - accuracy: 0.9648 - val_loss: 0.3210 - val_accuracy: 0.8995\n",
            "Epoch 7/50\n",
            "36/36 - 5s - loss: 0.0894 - accuracy: 0.9710 - val_loss: 0.3097 - val_accuracy: 0.9014\n",
            "Epoch 8/50\n",
            "36/36 - 5s - loss: 0.0878 - accuracy: 0.9684 - val_loss: 0.3308 - val_accuracy: 0.9005\n",
            "Epoch 9/50\n",
            "36/36 - 5s - loss: 0.0864 - accuracy: 0.9702 - val_loss: 0.3404 - val_accuracy: 0.8949\n",
            "Epoch 10/50\n",
            "36/36 - 5s - loss: 0.0794 - accuracy: 0.9734 - val_loss: 0.3353 - val_accuracy: 0.8986\n",
            "Epoch 11/50\n",
            "36/36 - 5s - loss: 0.0853 - accuracy: 0.9715 - val_loss: 0.3240 - val_accuracy: 0.9009\n",
            "Epoch 12/50\n",
            "36/36 - 5s - loss: 0.0753 - accuracy: 0.9751 - val_loss: 0.3526 - val_accuracy: 0.8944\n",
            "Epoch 13/50\n",
            "36/36 - 5s - loss: 0.0739 - accuracy: 0.9760 - val_loss: 0.3885 - val_accuracy: 0.8921\n",
            "Epoch 14/50\n",
            "36/36 - 5s - loss: 0.0744 - accuracy: 0.9741 - val_loss: 0.3563 - val_accuracy: 0.8935\n",
            "Epoch 15/50\n",
            "36/36 - 5s - loss: 0.0733 - accuracy: 0.9751 - val_loss: 0.3343 - val_accuracy: 0.8958\n",
            "Epoch 16/50\n",
            "36/36 - 5s - loss: 0.0714 - accuracy: 0.9757 - val_loss: 0.3484 - val_accuracy: 0.9000\n",
            "Epoch 17/50\n",
            "36/36 - 5s - loss: 0.0680 - accuracy: 0.9768 - val_loss: 0.3505 - val_accuracy: 0.8967\n",
            "Epoch 18/50\n",
            "36/36 - 5s - loss: 0.0668 - accuracy: 0.9774 - val_loss: 0.3679 - val_accuracy: 0.8972\n",
            "Epoch 19/50\n",
            "36/36 - 5s - loss: 0.0602 - accuracy: 0.9816 - val_loss: 0.3849 - val_accuracy: 0.8963\n",
            "Epoch 20/50\n",
            "36/36 - 5s - loss: 0.0585 - accuracy: 0.9813 - val_loss: 0.3993 - val_accuracy: 0.8991\n",
            "Epoch 21/50\n",
            "36/36 - 5s - loss: 0.0582 - accuracy: 0.9818 - val_loss: 0.4273 - val_accuracy: 0.8949\n",
            "Epoch 22/50\n",
            "36/36 - 5s - loss: 0.0603 - accuracy: 0.9794 - val_loss: 0.4040 - val_accuracy: 0.8939\n",
            "Epoch 23/50\n",
            "36/36 - 5s - loss: 0.0588 - accuracy: 0.9819 - val_loss: 0.3798 - val_accuracy: 0.8939\n",
            "Epoch 24/50\n",
            "36/36 - 5s - loss: 0.0578 - accuracy: 0.9815 - val_loss: 0.4013 - val_accuracy: 0.8995\n",
            "Epoch 25/50\n",
            "36/36 - 5s - loss: 0.0554 - accuracy: 0.9807 - val_loss: 0.3910 - val_accuracy: 0.8991\n",
            "Epoch 26/50\n",
            "36/36 - 5s - loss: 0.0520 - accuracy: 0.9827 - val_loss: 0.3972 - val_accuracy: 0.8986\n",
            "Epoch 27/50\n",
            "36/36 - 5s - loss: 0.0479 - accuracy: 0.9855 - val_loss: 0.3993 - val_accuracy: 0.8972\n",
            "Epoch 28/50\n",
            "36/36 - 5s - loss: 0.0494 - accuracy: 0.9868 - val_loss: 0.4397 - val_accuracy: 0.8963\n",
            "Epoch 29/50\n",
            "36/36 - 5s - loss: 0.0459 - accuracy: 0.9858 - val_loss: 0.4221 - val_accuracy: 0.8944\n",
            "Epoch 30/50\n",
            "36/36 - 5s - loss: 0.0457 - accuracy: 0.9860 - val_loss: 0.4164 - val_accuracy: 0.8958\n",
            "Epoch 31/50\n",
            "36/36 - 5s - loss: 0.0455 - accuracy: 0.9854 - val_loss: 0.4235 - val_accuracy: 0.9000\n",
            "Epoch 32/50\n",
            "36/36 - 5s - loss: 0.0462 - accuracy: 0.9846 - val_loss: 0.4149 - val_accuracy: 0.8958\n",
            "Epoch 33/50\n",
            "36/36 - 5s - loss: 0.0465 - accuracy: 0.9850 - val_loss: 0.4023 - val_accuracy: 0.8916\n",
            "Epoch 34/50\n",
            "36/36 - 5s - loss: 0.0456 - accuracy: 0.9857 - val_loss: 0.4690 - val_accuracy: 0.8930\n",
            "Epoch 35/50\n",
            "36/36 - 5s - loss: 0.0450 - accuracy: 0.9863 - val_loss: 0.4270 - val_accuracy: 0.8939\n",
            "Epoch 36/50\n",
            "36/36 - 5s - loss: 0.0423 - accuracy: 0.9869 - val_loss: 0.3957 - val_accuracy: 0.8972\n",
            "Epoch 37/50\n",
            "36/36 - 5s - loss: 0.0421 - accuracy: 0.9863 - val_loss: 0.4539 - val_accuracy: 0.8935\n",
            "Epoch 38/50\n",
            "36/36 - 5s - loss: 0.0390 - accuracy: 0.9882 - val_loss: 0.4636 - val_accuracy: 0.8963\n",
            "Epoch 39/50\n",
            "36/36 - 5s - loss: 0.0369 - accuracy: 0.9868 - val_loss: 0.4432 - val_accuracy: 0.8958\n",
            "Epoch 40/50\n",
            "36/36 - 5s - loss: 0.0387 - accuracy: 0.9877 - val_loss: 0.4517 - val_accuracy: 0.8967\n",
            "Epoch 41/50\n",
            "36/36 - 5s - loss: 0.0401 - accuracy: 0.9871 - val_loss: 0.4116 - val_accuracy: 0.9019\n",
            "Epoch 42/50\n",
            "36/36 - 5s - loss: 0.0441 - accuracy: 0.9838 - val_loss: 0.4614 - val_accuracy: 0.8986\n",
            "Epoch 43/50\n",
            "36/36 - 5s - loss: 0.0381 - accuracy: 0.9866 - val_loss: 0.4308 - val_accuracy: 0.8972\n",
            "Epoch 44/50\n",
            "36/36 - 5s - loss: 0.0345 - accuracy: 0.9885 - val_loss: 0.4785 - val_accuracy: 0.8953\n",
            "Epoch 45/50\n",
            "36/36 - 5s - loss: 0.0341 - accuracy: 0.9891 - val_loss: 0.4531 - val_accuracy: 0.8972\n",
            "Epoch 46/50\n",
            "36/36 - 5s - loss: 0.0345 - accuracy: 0.9882 - val_loss: 0.4937 - val_accuracy: 0.8939\n",
            "Epoch 47/50\n",
            "36/36 - 5s - loss: 0.0306 - accuracy: 0.9908 - val_loss: 0.5021 - val_accuracy: 0.8939\n",
            "Epoch 48/50\n",
            "36/36 - 5s - loss: 0.0307 - accuracy: 0.9896 - val_loss: 0.5007 - val_accuracy: 0.9005\n",
            "Epoch 49/50\n",
            "36/36 - 5s - loss: 0.0287 - accuracy: 0.9905 - val_loss: 0.4922 - val_accuracy: 0.8977\n",
            "Epoch 50/50\n",
            "36/36 - 5s - loss: 0.0312 - accuracy: 0.9893 - val_loss: 0.4911 - val_accuracy: 0.8972\n"
          ],
          "name": "stdout"
        }
      ]
    },
    {
      "cell_type": "code",
      "metadata": {
        "colab": {
          "base_uri": "https://localhost:8080/",
          "height": 295
        },
        "id": "K5JPT2KN1XnX",
        "outputId": "08a5b689-0cff-4245-a467-6c7c776676eb"
      },
      "source": [
        "import matplotlib.pyplot as plt\r\n",
        "\r\n",
        "plt.plot(history.history['accuracy']) \r\n",
        "plt.plot(history.history['val_accuracy'])\r\n",
        "plt.title('Model Accuracy')\r\n",
        "plt.ylabel('accuracy')\r\n",
        "plt.xlabel('epoch')\r\n",
        "plt.legend(['train','test'])\r\n",
        "#plt.show()\r\n",
        "plt.savefig('Model_accuracy.png', dpi=600)"
      ],
      "execution_count": 45,
      "outputs": [
        {
          "output_type": "display_data",
          "data": {
            "image/png": "[encoded data removed]",
            "text/plain": [
              "<Figure size 432x288 with 1 Axes>"
            ]
          },
          "metadata": {
            "tags": [],
            "needs_background": "light"
          }
        }
      ]
    },
    {
      "cell_type": "code",
      "metadata": {
        "colab": {
          "base_uri": "https://localhost:8080/"
        },
        "id": "-h0x02VgZQPJ",
        "outputId": "437b9b58-c7a4-4969-f90e-db960bc683a0"
      },
      "source": [
        "score = model.evaluate(X_test,Y_test,verbose=1)\r\n",
        "predictions = np.argmax(model.predict(X_test),axis = -1)\r\n",
        "\r\n",
        "print(\"Test score is {}\".format(score[0]))\r\n",
        "print(\"Test Accuracy is {}\".format(score[1]))"
      ],
      "execution_count": 46,
      "outputs": [
        {
          "output_type": "stream",
          "text": [
            "67/67 [==============================] - 1s 21ms/step - loss: 0.4911 - accuracy: 0.8972\n",
            "Test score is 0.49112993478775024\n",
            "Test Accuracy is 0.8971962332725525\n"
          ],
          "name": "stdout"
        }
      ]
    },
    {
      "cell_type": "code",
      "metadata": {
        "id": "1p7sxr4ZZbiz"
      },
      "source": [
        "_, train_acc = model.evaluate(X_train, Y_train, verbose=0)\r\n",
        "_, test_acc = model.evaluate(X_test, Y_test, verbose=0)"
      ],
      "execution_count": 47,
      "outputs": []
    },
    {
      "cell_type": "code",
      "metadata": {
        "id": "3d4nm6x1ZgIV"
      },
      "source": [
        "rounded_predictions = np.argmax(model.predict(X_test, batch_size=128, verbose=0),axis = -1)"
      ],
      "execution_count": 48,
      "outputs": []
    },
    {
      "cell_type": "code",
      "metadata": {
        "colab": {
          "base_uri": "https://localhost:8080/"
        },
        "id": "i_X1ncrdZmIj",
        "outputId": "e2dfd356-0d15-4ac8-a23b-c37c7d96df4c"
      },
      "source": [
        "from sklearn.metrics import classification_report\r\n",
        "print(classification_report(Y_test, rounded_predictions))"
      ],
      "execution_count": 49,
      "outputs": [
        {
          "output_type": "stream",
          "text": [
            "              precision    recall  f1-score   support\n",
            "\n",
            "           0       0.48      1.00      0.65      1020\n",
            "           1       0.00      0.00      0.00      1120\n",
            "\n",
            "    accuracy                           0.48      2140\n",
            "   macro avg       0.24      0.50      0.32      2140\n",
            "weighted avg       0.23      0.48      0.31      2140\n",
            "\n"
          ],
          "name": "stdout"
        },
        {
          "output_type": "stream",
          "text": [
            "/usr/local/lib/python3.6/dist-packages/sklearn/metrics/_classification.py:1272: UndefinedMetricWarning: Precision and F-score are ill-defined and being set to 0.0 in labels with no predicted samples. Use `zero_division` parameter to control this behavior.\n",
            "  _warn_prf(average, modifier, msg_start, len(result))\n"
          ],
          "name": "stderr"
        }
      ]
    },
    {
      "cell_type": "code",
      "metadata": {
        "colab": {
          "base_uri": "https://localhost:8080/"
        },
        "id": "j-LsYuMZZ8TD",
        "outputId": "6c267bc0-53cf-4bde-f8c2-c769d7cf172b"
      },
      "source": [
        "from sklearn.metrics import accuracy_score\r\n",
        "score = accuracy_score(Y_test, rounded_predictions)\r\n",
        "print(score)"
      ],
      "execution_count": 50,
      "outputs": [
        {
          "output_type": "stream",
          "text": [
            "0.4766355140186916\n"
          ],
          "name": "stdout"
        }
      ]
    },
    {
      "cell_type": "code",
      "metadata": {
        "id": "0LJEDvmGb45n"
      },
      "source": [
        ""
      ],
      "execution_count": null,
      "outputs": []
    }
  ]
}